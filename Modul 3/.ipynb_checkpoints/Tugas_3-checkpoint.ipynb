{
 "cells": [
  {
   "cell_type": "code",
   "execution_count": 1,
   "id": "955c2611-3de0-4dc0-84f5-137f7fc63f4d",
   "metadata": {},
   "outputs": [],
   "source": [
    "import pandas as pd\n",
    "import numpy as np\n",
    "import matplotlib.pyplot as plt\n",
    "import seaborn as sns\n",
    "from sklearn.impute import SimpleImputer\n",
    "from imblearn.under_sampling import NearMiss\n",
    "from sklearn.preprocessing import RobustScaler, MinMaxScaler"
   ]
  },
  {
   "cell_type": "code",
   "execution_count": 2,
   "id": "d9b35ac6-8e51-4810-ba78-5ef219b9adc1",
   "metadata": {},
   "outputs": [
    {
     "data": {
      "text/html": [
       "<div>\n",
       "<style scoped>\n",
       "    .dataframe tbody tr th:only-of-type {\n",
       "        vertical-align: middle;\n",
       "    }\n",
       "\n",
       "    .dataframe tbody tr th {\n",
       "        vertical-align: top;\n",
       "    }\n",
       "\n",
       "    .dataframe thead th {\n",
       "        text-align: right;\n",
       "    }\n",
       "</style>\n",
       "<table border=\"1\" class=\"dataframe\">\n",
       "  <thead>\n",
       "    <tr style=\"text-align: right;\">\n",
       "      <th></th>\n",
       "      <th>Pregnancies</th>\n",
       "      <th>Glucose</th>\n",
       "      <th>BloodPressure</th>\n",
       "      <th>SkinThickness</th>\n",
       "      <th>Insulin</th>\n",
       "      <th>BMI</th>\n",
       "      <th>DiabetesPedigreeFunction</th>\n",
       "      <th>Age</th>\n",
       "      <th>Outcome</th>\n",
       "    </tr>\n",
       "  </thead>\n",
       "  <tbody>\n",
       "    <tr>\n",
       "      <th>0</th>\n",
       "      <td>6.0</td>\n",
       "      <td>NaN</td>\n",
       "      <td>72.0</td>\n",
       "      <td>35.0</td>\n",
       "      <td>0.0</td>\n",
       "      <td>NaN</td>\n",
       "      <td>0.627</td>\n",
       "      <td>NaN</td>\n",
       "      <td>1</td>\n",
       "    </tr>\n",
       "    <tr>\n",
       "      <th>1</th>\n",
       "      <td>1.0</td>\n",
       "      <td>85.0</td>\n",
       "      <td>66.0</td>\n",
       "      <td>29.0</td>\n",
       "      <td>0.0</td>\n",
       "      <td>NaN</td>\n",
       "      <td>0.351</td>\n",
       "      <td>31.0</td>\n",
       "      <td>0</td>\n",
       "    </tr>\n",
       "    <tr>\n",
       "      <th>2</th>\n",
       "      <td>8.0</td>\n",
       "      <td>183.0</td>\n",
       "      <td>64.0</td>\n",
       "      <td>0.0</td>\n",
       "      <td>0.0</td>\n",
       "      <td>23.3</td>\n",
       "      <td>0.672</td>\n",
       "      <td>32.0</td>\n",
       "      <td>1</td>\n",
       "    </tr>\n",
       "    <tr>\n",
       "      <th>3</th>\n",
       "      <td>1.0</td>\n",
       "      <td>89.0</td>\n",
       "      <td>66.0</td>\n",
       "      <td>23.0</td>\n",
       "      <td>94.0</td>\n",
       "      <td>28.1</td>\n",
       "      <td>0.167</td>\n",
       "      <td>21.0</td>\n",
       "      <td>0</td>\n",
       "    </tr>\n",
       "    <tr>\n",
       "      <th>4</th>\n",
       "      <td>0.0</td>\n",
       "      <td>NaN</td>\n",
       "      <td>40.0</td>\n",
       "      <td>35.0</td>\n",
       "      <td>168.0</td>\n",
       "      <td>43.1</td>\n",
       "      <td>NaN</td>\n",
       "      <td>33.0</td>\n",
       "      <td>1</td>\n",
       "    </tr>\n",
       "  </tbody>\n",
       "</table>\n",
       "</div>"
      ],
      "text/plain": [
       "   Pregnancies  Glucose  BloodPressure  SkinThickness  Insulin   BMI  \\\n",
       "0          6.0      NaN           72.0           35.0      0.0   NaN   \n",
       "1          1.0     85.0           66.0           29.0      0.0   NaN   \n",
       "2          8.0    183.0           64.0            0.0      0.0  23.3   \n",
       "3          1.0     89.0           66.0           23.0     94.0  28.1   \n",
       "4          0.0      NaN           40.0           35.0    168.0  43.1   \n",
       "\n",
       "   DiabetesPedigreeFunction   Age  Outcome  \n",
       "0                     0.627   NaN        1  \n",
       "1                     0.351  31.0        0  \n",
       "2                     0.672  32.0        1  \n",
       "3                     0.167  21.0        0  \n",
       "4                       NaN  33.0        1  "
      ]
     },
     "execution_count": 2,
     "metadata": {},
     "output_type": "execute_result"
    }
   ],
   "source": [
    "df = pd.read_csv('diabetes.csv')\n",
    "df.head()"
   ]
  },
  {
   "cell_type": "code",
   "execution_count": 3,
   "id": "347d0c76-d221-4ad9-838c-6ce7e96e954e",
   "metadata": {},
   "outputs": [
    {
     "name": "stdout",
     "output_type": "stream",
     "text": [
      "<class 'pandas.core.frame.DataFrame'>\n",
      "RangeIndex: 768 entries, 0 to 767\n",
      "Data columns (total 9 columns):\n",
      " #   Column                    Non-Null Count  Dtype  \n",
      "---  ------                    --------------  -----  \n",
      " 0   Pregnancies               691 non-null    float64\n",
      " 1   Glucose                   653 non-null    float64\n",
      " 2   BloodPressure             614 non-null    float64\n",
      " 3   SkinThickness             730 non-null    float64\n",
      " 4   Insulin                   576 non-null    float64\n",
      " 5   BMI                       538 non-null    float64\n",
      " 6   DiabetesPedigreeFunction  691 non-null    float64\n",
      " 7   Age                       614 non-null    float64\n",
      " 8   Outcome                   768 non-null    int64  \n",
      "dtypes: float64(8), int64(1)\n",
      "memory usage: 54.1 KB\n"
     ]
    }
   ],
   "source": [
    "df.info()"
   ]
  },
  {
   "cell_type": "code",
   "execution_count": 4,
   "id": "50cf70a9-16dd-456b-8a3f-97af7ecaac73",
   "metadata": {},
   "outputs": [
    {
     "data": {
      "text/plain": [
       "Pregnancies                  77\n",
       "Glucose                     115\n",
       "BloodPressure               154\n",
       "SkinThickness                38\n",
       "Insulin                     192\n",
       "BMI                         230\n",
       "DiabetesPedigreeFunction     77\n",
       "Age                         154\n",
       "Outcome                       0\n",
       "dtype: int64"
      ]
     },
     "execution_count": 4,
     "metadata": {},
     "output_type": "execute_result"
    }
   ],
   "source": [
    "df.isna().sum()"
   ]
  },
  {
   "cell_type": "markdown",
   "id": "2e9506ca-ae58-4966-bc09-afd561415c81",
   "metadata": {},
   "source": [
    "## 1. Imputasi missing value dengan mean, median, dan modus"
   ]
  },
  {
   "cell_type": "markdown",
   "id": "6c5b8c7b-d70d-4bf6-82f7-666c3db58b34",
   "metadata": {},
   "source": [
    "### a. Mean\n",
    "\n",
    "Imputasi kolom 'Pregnancies', 'Glucose', dan 'BloodPressure' menggunakan nilai mean masing-masing kolom"
   ]
  },
  {
   "cell_type": "code",
   "execution_count": 5,
   "id": "6aaed252-7d2c-4811-9aa0-98f863eb1e91",
   "metadata": {},
   "outputs": [
    {
     "data": {
      "text/plain": [
       "Pregnancies       77\n",
       "Glucose          115\n",
       "BloodPressure    154\n",
       "dtype: int64"
      ]
     },
     "execution_count": 5,
     "metadata": {},
     "output_type": "execute_result"
    }
   ],
   "source": [
    "df[['Pregnancies','Glucose', 'BloodPressure']].isna().sum()"
   ]
  },
  {
   "cell_type": "code",
   "execution_count": 6,
   "id": "baf8092e-6d9c-4e77-8a0b-5f52e90b6220",
   "metadata": {},
   "outputs": [],
   "source": [
    "impute_mean = SimpleImputer(strategy='mean') \n",
    "df[['Pregnancies', 'Glucose', 'BloodPressure']] = impute_mean.fit_transform(df[['Pregnancies', 'Glucose', 'BloodPressure']])"
   ]
  },
  {
   "cell_type": "code",
   "execution_count": 7,
   "id": "083db9ca-b268-48b4-a2b5-a453ef95b724",
   "metadata": {},
   "outputs": [
    {
     "data": {
      "text/plain": [
       "Pregnancies      0\n",
       "Glucose          0\n",
       "BloodPressure    0\n",
       "dtype: int64"
      ]
     },
     "execution_count": 7,
     "metadata": {},
     "output_type": "execute_result"
    }
   ],
   "source": [
    "df[['Pregnancies','Glucose', 'BloodPressure']].isna().sum()"
   ]
  },
  {
   "cell_type": "markdown",
   "id": "53e7d6f8-22cc-4a14-b6f9-82a625d78745",
   "metadata": {},
   "source": [
    "### b. Median\n",
    "\n",
    "Imputasi kolom 'SkinThickness', 'Insulin', dan 'BMI' menggunakan nilai median masing-masing kolom"
   ]
  },
  {
   "cell_type": "code",
   "execution_count": 8,
   "id": "aa176136-a963-47a8-8b04-1ab9af1cce32",
   "metadata": {},
   "outputs": [
    {
     "data": {
      "text/plain": [
       "SkinThickness     38\n",
       "Insulin          192\n",
       "BMI              230\n",
       "dtype: int64"
      ]
     },
     "execution_count": 8,
     "metadata": {},
     "output_type": "execute_result"
    }
   ],
   "source": [
    "df[['SkinThickness', 'Insulin', 'BMI']].isna().sum()"
   ]
  },
  {
   "cell_type": "code",
   "execution_count": 9,
   "id": "7a3c2be6-cdf2-42f3-aaf3-45ef6efa1f25",
   "metadata": {},
   "outputs": [],
   "source": [
    "impute_median = SimpleImputer(strategy='median')\n",
    "df[['SkinThickness', 'Insulin', 'BMI']] = impute_median.fit_transform(df[['SkinThickness', 'Insulin', 'BMI']])"
   ]
  },
  {
   "cell_type": "code",
   "execution_count": 10,
   "id": "255cfef5-bb17-450e-b4eb-57a6c2e06919",
   "metadata": {},
   "outputs": [
    {
     "data": {
      "text/plain": [
       "SkinThickness    0\n",
       "Insulin          0\n",
       "BMI              0\n",
       "dtype: int64"
      ]
     },
     "execution_count": 10,
     "metadata": {},
     "output_type": "execute_result"
    }
   ],
   "source": [
    "df[['SkinThickness', 'Insulin', 'BMI']].isna().sum()"
   ]
  },
  {
   "cell_type": "markdown",
   "id": "d09d8d7a-c85b-49a9-a5fd-9d93be4b931f",
   "metadata": {},
   "source": [
    "### c. Modus\n",
    "\n",
    "Imputasi kolom 'DiabetesPedigreeFunction' dan 'Age' menggunakan nilai modus masing-masing kolom"
   ]
  },
  {
   "cell_type": "code",
   "execution_count": 11,
   "id": "16274a01-1fae-4542-8aa0-a2868e904327",
   "metadata": {},
   "outputs": [
    {
     "data": {
      "text/plain": [
       "DiabetesPedigreeFunction     77\n",
       "Age                         154\n",
       "dtype: int64"
      ]
     },
     "execution_count": 11,
     "metadata": {},
     "output_type": "execute_result"
    }
   ],
   "source": [
    "df[['DiabetesPedigreeFunction', 'Age']].isna().sum()"
   ]
  },
  {
   "cell_type": "code",
   "execution_count": 12,
   "id": "0c3e469c-fef8-4e83-874a-d9e5979956fd",
   "metadata": {},
   "outputs": [],
   "source": [
    "impute_modus = SimpleImputer(strategy='most_frequent')\n",
    "df[['DiabetesPedigreeFunction', 'Age']] = impute_modus.fit_transform(df[['DiabetesPedigreeFunction', 'Age']])"
   ]
  },
  {
   "cell_type": "code",
   "execution_count": 13,
   "id": "c521691e-93b7-4728-afdf-f4963eaa592f",
   "metadata": {},
   "outputs": [
    {
     "data": {
      "text/plain": [
       "DiabetesPedigreeFunction    0\n",
       "Age                         0\n",
       "dtype: int64"
      ]
     },
     "execution_count": 13,
     "metadata": {},
     "output_type": "execute_result"
    }
   ],
   "source": [
    "df[['DiabetesPedigreeFunction', 'Age']].isna().sum()"
   ]
  },
  {
   "cell_type": "markdown",
   "id": "168d2b58-0418-47fc-8d7e-b2c03022c6cc",
   "metadata": {},
   "source": [
    "## 2. Cek korelasi antar variabel dengan heatmap"
   ]
  },
  {
   "cell_type": "code",
   "execution_count": 14,
   "id": "f75176bc-010e-42c5-a3a1-da436a302943",
   "metadata": {},
   "outputs": [
    {
     "data": {
      "image/png": "[encoded data removed]",
      "text/plain": [
       "<Figure size 1000x800 with 2 Axes>"
      ]
     },
     "metadata": {},
     "output_type": "display_data"
    }
   ],
   "source": [
    "plt.figure(figsize=(10, 8))\n",
    "sns.heatmap(data=df.corr(),cmap='crest', annot=True, linewidths=0.01)\n",
    "plt.tight_layout()\n",
    "plt.show()"
   ]
  },
  {
   "cell_type": "markdown",
   "id": "fe210827-8245-4bde-a1e8-b202af37d9b5",
   "metadata": {},
   "source": [
    "## 3. Lakukan imbalance handling dengan undersampling"
   ]
  },
  {
   "cell_type": "code",
   "execution_count": 15,
   "id": "18034f17-e33b-4f6b-b28e-b82c12659e89",
   "metadata": {},
   "outputs": [],
   "source": [
    "X = df.drop('Outcome', axis=1)\n",
    "y = df['Outcome']"
   ]
  },
  {
   "cell_type": "code",
   "execution_count": 16,
   "id": "d81d70ab-d411-4ef8-99b8-5fe863e161bd",
   "metadata": {},
   "outputs": [
    {
     "data": {
      "image/png": "[encoded data removed]",
      "text/plain": [
       "<Figure size 640x480 with 1 Axes>"
      ]
     },
     "metadata": {},
     "output_type": "display_data"
    }
   ],
   "source": [
    "sns.countplot(data=df, x=y);"
   ]
  },
  {
   "cell_type": "code",
   "execution_count": 17,
   "id": "f7c190e5-7d9e-4a60-ba80-a2016da6f3f4",
   "metadata": {},
   "outputs": [],
   "source": [
    "# Under sampling menggunakan algoritma NearMiss\n",
    "\n",
    "under_sampling = NearMiss(version=3, n_neighbors_ver3=5)\n",
    "X_resampled, y_resampled = under_sampling.fit_resample(X, y)"
   ]
  },
  {
   "cell_type": "code",
   "execution_count": 18,
   "id": "ad33a977-7158-442c-a685-b1aecc4228ad",
   "metadata": {},
   "outputs": [],
   "source": [
    "df = pd.concat(objs=[X_resampled, y_resampled],axis=1)"
   ]
  },
  {
   "cell_type": "code",
   "execution_count": 19,
   "id": "c6af46e5-7c90-4d35-83b1-3fc0245c5c3e",
   "metadata": {
    "scrolled": true
   },
   "outputs": [
    {
     "data": {
      "image/png": "[encoded data removed]",
      "text/plain": [
       "<Figure size 640x480 with 1 Axes>"
      ]
     },
     "metadata": {},
     "output_type": "display_data"
    }
   ],
   "source": [
    "sns.countplot(data=df, x=df['Outcome']);"
   ]
  },
  {
   "cell_type": "markdown",
   "id": "f191e8e8-2211-44a6-b30b-e8c27cd0f7ad",
   "metadata": {},
   "source": [
    "## 4. Lakukan scaling dengan robust scaler dan minmax"
   ]
  },
  {
   "cell_type": "code",
   "execution_count": 20,
   "id": "9f1919c1-7eae-4c67-87c8-6fa00989325f",
   "metadata": {},
   "outputs": [
    {
     "data": {
      "text/html": [
       "<div>\n",
       "<style scoped>\n",
       "    .dataframe tbody tr th:only-of-type {\n",
       "        vertical-align: middle;\n",
       "    }\n",
       "\n",
       "    .dataframe tbody tr th {\n",
       "        vertical-align: top;\n",
       "    }\n",
       "\n",
       "    .dataframe thead th {\n",
       "        text-align: right;\n",
       "    }\n",
       "</style>\n",
       "<table border=\"1\" class=\"dataframe\">\n",
       "  <thead>\n",
       "    <tr style=\"text-align: right;\">\n",
       "      <th></th>\n",
       "      <th>Pregnancies</th>\n",
       "      <th>Glucose</th>\n",
       "      <th>BloodPressure</th>\n",
       "      <th>SkinThickness</th>\n",
       "      <th>Insulin</th>\n",
       "      <th>BMI</th>\n",
       "      <th>DiabetesPedigreeFunction</th>\n",
       "      <th>Age</th>\n",
       "      <th>Outcome</th>\n",
       "    </tr>\n",
       "  </thead>\n",
       "  <tbody>\n",
       "    <tr>\n",
       "      <th>0</th>\n",
       "      <td>0.000000</td>\n",
       "      <td>165.0</td>\n",
       "      <td>90.000000</td>\n",
       "      <td>33.0</td>\n",
       "      <td>680.0</td>\n",
       "      <td>52.30</td>\n",
       "      <td>0.427</td>\n",
       "      <td>23.0</td>\n",
       "      <td>0</td>\n",
       "    </tr>\n",
       "    <tr>\n",
       "      <th>1</th>\n",
       "      <td>1.000000</td>\n",
       "      <td>131.0</td>\n",
       "      <td>64.000000</td>\n",
       "      <td>14.0</td>\n",
       "      <td>415.0</td>\n",
       "      <td>23.70</td>\n",
       "      <td>0.389</td>\n",
       "      <td>21.0</td>\n",
       "      <td>0</td>\n",
       "    </tr>\n",
       "    <tr>\n",
       "      <th>2</th>\n",
       "      <td>1.000000</td>\n",
       "      <td>193.0</td>\n",
       "      <td>68.959283</td>\n",
       "      <td>23.0</td>\n",
       "      <td>375.0</td>\n",
       "      <td>25.90</td>\n",
       "      <td>0.655</td>\n",
       "      <td>24.0</td>\n",
       "      <td>0</td>\n",
       "    </tr>\n",
       "    <tr>\n",
       "      <th>3</th>\n",
       "      <td>5.000000</td>\n",
       "      <td>44.0</td>\n",
       "      <td>62.000000</td>\n",
       "      <td>0.0</td>\n",
       "      <td>0.0</td>\n",
       "      <td>25.00</td>\n",
       "      <td>0.587</td>\n",
       "      <td>36.0</td>\n",
       "      <td>0</td>\n",
       "    </tr>\n",
       "    <tr>\n",
       "      <th>4</th>\n",
       "      <td>3.803184</td>\n",
       "      <td>0.0</td>\n",
       "      <td>74.000000</td>\n",
       "      <td>20.0</td>\n",
       "      <td>23.0</td>\n",
       "      <td>32.15</td>\n",
       "      <td>0.299</td>\n",
       "      <td>21.0</td>\n",
       "      <td>0</td>\n",
       "    </tr>\n",
       "  </tbody>\n",
       "</table>\n",
       "</div>"
      ],
      "text/plain": [
       "   Pregnancies  Glucose  BloodPressure  SkinThickness  Insulin    BMI  \\\n",
       "0     0.000000    165.0      90.000000           33.0    680.0  52.30   \n",
       "1     1.000000    131.0      64.000000           14.0    415.0  23.70   \n",
       "2     1.000000    193.0      68.959283           23.0    375.0  25.90   \n",
       "3     5.000000     44.0      62.000000            0.0      0.0  25.00   \n",
       "4     3.803184      0.0      74.000000           20.0     23.0  32.15   \n",
       "\n",
       "   DiabetesPedigreeFunction   Age  Outcome  \n",
       "0                     0.427  23.0        0  \n",
       "1                     0.389  21.0        0  \n",
       "2                     0.655  24.0        0  \n",
       "3                     0.587  36.0        0  \n",
       "4                     0.299  21.0        0  "
      ]
     },
     "execution_count": 20,
     "metadata": {},
     "output_type": "execute_result"
    }
   ],
   "source": [
    "df.head()"
   ]
  },
  {
   "cell_type": "markdown",
   "id": "07d106e2-7512-45bf-ba23-543040e2158d",
   "metadata": {},
   "source": [
    "### a. RobustScaler"
   ]
  },
  {
   "cell_type": "code",
   "execution_count": 21,
   "id": "56050576-eb0c-431f-a28d-db19d52b193d",
   "metadata": {},
   "outputs": [
    {
     "data": {
      "text/html": [
       "<div>\n",
       "<style scoped>\n",
       "    .dataframe tbody tr th:only-of-type {\n",
       "        vertical-align: middle;\n",
       "    }\n",
       "\n",
       "    .dataframe tbody tr th {\n",
       "        vertical-align: top;\n",
       "    }\n",
       "\n",
       "    .dataframe thead th {\n",
       "        text-align: right;\n",
       "    }\n",
       "</style>\n",
       "<table border=\"1\" class=\"dataframe\">\n",
       "  <thead>\n",
       "    <tr style=\"text-align: right;\">\n",
       "      <th></th>\n",
       "      <th>Column</th>\n",
       "      <th>Range</th>\n",
       "    </tr>\n",
       "  </thead>\n",
       "  <tbody>\n",
       "    <tr>\n",
       "      <th>0</th>\n",
       "      <td>Pregnancies</td>\n",
       "      <td>17.000</td>\n",
       "    </tr>\n",
       "    <tr>\n",
       "      <th>1</th>\n",
       "      <td>Glucose</td>\n",
       "      <td>199.000</td>\n",
       "    </tr>\n",
       "    <tr>\n",
       "      <th>2</th>\n",
       "      <td>BloodPressure</td>\n",
       "      <td>114.000</td>\n",
       "    </tr>\n",
       "    <tr>\n",
       "      <th>3</th>\n",
       "      <td>SkinThickness</td>\n",
       "      <td>99.000</td>\n",
       "    </tr>\n",
       "    <tr>\n",
       "      <th>4</th>\n",
       "      <td>Insulin</td>\n",
       "      <td>680.000</td>\n",
       "    </tr>\n",
       "    <tr>\n",
       "      <th>5</th>\n",
       "      <td>BMI</td>\n",
       "      <td>67.100</td>\n",
       "    </tr>\n",
       "    <tr>\n",
       "      <th>6</th>\n",
       "      <td>DiabetesPedigreeFunction</td>\n",
       "      <td>2.052</td>\n",
       "    </tr>\n",
       "    <tr>\n",
       "      <th>7</th>\n",
       "      <td>Age</td>\n",
       "      <td>51.000</td>\n",
       "    </tr>\n",
       "    <tr>\n",
       "      <th>8</th>\n",
       "      <td>Outcome</td>\n",
       "      <td>1.000</td>\n",
       "    </tr>\n",
       "  </tbody>\n",
       "</table>\n",
       "</div>"
      ],
      "text/plain": [
       "                     Column    Range\n",
       "0               Pregnancies   17.000\n",
       "1                   Glucose  199.000\n",
       "2             BloodPressure  114.000\n",
       "3             SkinThickness   99.000\n",
       "4                   Insulin  680.000\n",
       "5                       BMI   67.100\n",
       "6  DiabetesPedigreeFunction    2.052\n",
       "7                       Age   51.000\n",
       "8                   Outcome    1.000"
      ]
     },
     "execution_count": 21,
     "metadata": {},
     "output_type": "execute_result"
    }
   ],
   "source": [
    "col_range = []\n",
    "\n",
    "for col in df.columns:\n",
    "    min = df[col].min()\n",
    "    max = df[col].max()\n",
    "    ranges = (max - min)\n",
    "    col_range.append(ranges)\n",
    "\n",
    "data_ranges = pd.DataFrame({'Column':df.columns, 'Range':col_range})\n",
    "data_ranges"
   ]
  },
  {
   "cell_type": "code",
   "execution_count": 22,
   "id": "0d80805d-412a-48fe-8ba4-79d7c2b690d8",
   "metadata": {},
   "outputs": [],
   "source": [
    "robust_scaler = RobustScaler()\n",
    "df_robust = df.copy()\n",
    "X_robust = robust_scaler.fit_transform(df_robust[df_robust.columns.difference(['Outcome'])])\n",
    "\n",
    "df_robust[df_robust.columns.difference(['Outcome'])] = pd.DataFrame(X_robust, columns=df_robust.columns.difference(['Outcome']))"
   ]
  },
  {
   "cell_type": "code",
   "execution_count": 23,
   "id": "9f7554c3-39e1-4ae3-a126-847f17f3ace7",
   "metadata": {},
   "outputs": [
    {
     "data": {
      "text/html": [
       "<div>\n",
       "<style scoped>\n",
       "    .dataframe tbody tr th:only-of-type {\n",
       "        vertical-align: middle;\n",
       "    }\n",
       "\n",
       "    .dataframe tbody tr th {\n",
       "        vertical-align: top;\n",
       "    }\n",
       "\n",
       "    .dataframe thead th {\n",
       "        text-align: right;\n",
       "    }\n",
       "</style>\n",
       "<table border=\"1\" class=\"dataframe\">\n",
       "  <thead>\n",
       "    <tr style=\"text-align: right;\">\n",
       "      <th></th>\n",
       "      <th>Column</th>\n",
       "      <th>Range</th>\n",
       "    </tr>\n",
       "  </thead>\n",
       "  <tbody>\n",
       "    <tr>\n",
       "      <th>0</th>\n",
       "      <td>Pregnancies</td>\n",
       "      <td>3.400000</td>\n",
       "    </tr>\n",
       "    <tr>\n",
       "      <th>1</th>\n",
       "      <td>Glucose</td>\n",
       "      <td>5.489655</td>\n",
       "    </tr>\n",
       "    <tr>\n",
       "      <th>2</th>\n",
       "      <td>BloodPressure</td>\n",
       "      <td>9.500000</td>\n",
       "    </tr>\n",
       "    <tr>\n",
       "      <th>3</th>\n",
       "      <td>SkinThickness</td>\n",
       "      <td>2.911765</td>\n",
       "    </tr>\n",
       "    <tr>\n",
       "      <th>4</th>\n",
       "      <td>Insulin</td>\n",
       "      <td>5.302144</td>\n",
       "    </tr>\n",
       "    <tr>\n",
       "      <th>5</th>\n",
       "      <td>BMI</td>\n",
       "      <td>15.881657</td>\n",
       "    </tr>\n",
       "    <tr>\n",
       "      <th>6</th>\n",
       "      <td>DiabetesPedigreeFunction</td>\n",
       "      <td>4.822562</td>\n",
       "    </tr>\n",
       "    <tr>\n",
       "      <th>7</th>\n",
       "      <td>Age</td>\n",
       "      <td>2.833333</td>\n",
       "    </tr>\n",
       "    <tr>\n",
       "      <th>8</th>\n",
       "      <td>Outcome</td>\n",
       "      <td>1.000000</td>\n",
       "    </tr>\n",
       "  </tbody>\n",
       "</table>\n",
       "</div>"
      ],
      "text/plain": [
       "                     Column      Range\n",
       "0               Pregnancies   3.400000\n",
       "1                   Glucose   5.489655\n",
       "2             BloodPressure   9.500000\n",
       "3             SkinThickness   2.911765\n",
       "4                   Insulin   5.302144\n",
       "5                       BMI  15.881657\n",
       "6  DiabetesPedigreeFunction   4.822562\n",
       "7                       Age   2.833333\n",
       "8                   Outcome   1.000000"
      ]
     },
     "execution_count": 23,
     "metadata": {},
     "output_type": "execute_result"
    }
   ],
   "source": [
    "col_range = []\n",
    "\n",
    "for col in df_robust.columns:\n",
    "    min = df_robust[col].min()\n",
    "    max = df_robust[col].max()\n",
    "    ranges = (max - min)\n",
    "    col_range.append(ranges)\n",
    "\n",
    "data_ranges = pd.DataFrame({'Column':df_robust.columns, 'Range':col_range})\n",
    "data_ranges"
   ]
  },
  {
   "cell_type": "code",
   "execution_count": 24,
   "id": "333198be-8b46-4e2c-9f29-5579706ec1b3",
   "metadata": {},
   "outputs": [
    {
     "data": {
      "text/html": [
       "<div>\n",
       "<style scoped>\n",
       "    .dataframe tbody tr th:only-of-type {\n",
       "        vertical-align: middle;\n",
       "    }\n",
       "\n",
       "    .dataframe tbody tr th {\n",
       "        vertical-align: top;\n",
       "    }\n",
       "\n",
       "    .dataframe thead th {\n",
       "        text-align: right;\n",
       "    }\n",
       "</style>\n",
       "<table border=\"1\" class=\"dataframe\">\n",
       "  <thead>\n",
       "    <tr style=\"text-align: right;\">\n",
       "      <th></th>\n",
       "      <th>Pregnancies</th>\n",
       "      <th>Glucose</th>\n",
       "      <th>BloodPressure</th>\n",
       "      <th>SkinThickness</th>\n",
       "      <th>Insulin</th>\n",
       "      <th>BMI</th>\n",
       "      <th>DiabetesPedigreeFunction</th>\n",
       "      <th>Age</th>\n",
       "      <th>Outcome</th>\n",
       "    </tr>\n",
       "  </thead>\n",
       "  <tbody>\n",
       "    <tr>\n",
       "      <th>0</th>\n",
       "      <td>-0.760637</td>\n",
       "      <td>1.228621</td>\n",
       "      <td>1.666667</td>\n",
       "      <td>0.235294</td>\n",
       "      <td>5.021442</td>\n",
       "      <td>4.769231</td>\n",
       "      <td>0.211516</td>\n",
       "      <td>-0.277778</td>\n",
       "      <td>0</td>\n",
       "    </tr>\n",
       "    <tr>\n",
       "      <th>1</th>\n",
       "      <td>-0.560637</td>\n",
       "      <td>0.290690</td>\n",
       "      <td>-0.500000</td>\n",
       "      <td>-0.323529</td>\n",
       "      <td>2.955166</td>\n",
       "      <td>-2.000000</td>\n",
       "      <td>0.122209</td>\n",
       "      <td>-0.388889</td>\n",
       "      <td>0</td>\n",
       "    </tr>\n",
       "    <tr>\n",
       "      <th>2</th>\n",
       "      <td>-0.560637</td>\n",
       "      <td>2.001035</td>\n",
       "      <td>-0.086726</td>\n",
       "      <td>-0.058824</td>\n",
       "      <td>2.643275</td>\n",
       "      <td>-1.479290</td>\n",
       "      <td>0.747356</td>\n",
       "      <td>-0.222222</td>\n",
       "      <td>0</td>\n",
       "    </tr>\n",
       "    <tr>\n",
       "      <th>3</th>\n",
       "      <td>0.239363</td>\n",
       "      <td>-2.109310</td>\n",
       "      <td>-0.666667</td>\n",
       "      <td>-0.735294</td>\n",
       "      <td>-0.280702</td>\n",
       "      <td>-1.692308</td>\n",
       "      <td>0.587544</td>\n",
       "      <td>0.444444</td>\n",
       "      <td>0</td>\n",
       "    </tr>\n",
       "    <tr>\n",
       "      <th>4</th>\n",
       "      <td>0.000000</td>\n",
       "      <td>-3.323103</td>\n",
       "      <td>0.333333</td>\n",
       "      <td>-0.147059</td>\n",
       "      <td>-0.101365</td>\n",
       "      <td>0.000000</td>\n",
       "      <td>-0.089307</td>\n",
       "      <td>-0.388889</td>\n",
       "      <td>0</td>\n",
       "    </tr>\n",
       "  </tbody>\n",
       "</table>\n",
       "</div>"
      ],
      "text/plain": [
       "   Pregnancies   Glucose  BloodPressure  SkinThickness   Insulin       BMI  \\\n",
       "0    -0.760637  1.228621       1.666667       0.235294  5.021442  4.769231   \n",
       "1    -0.560637  0.290690      -0.500000      -0.323529  2.955166 -2.000000   \n",
       "2    -0.560637  2.001035      -0.086726      -0.058824  2.643275 -1.479290   \n",
       "3     0.239363 -2.109310      -0.666667      -0.735294 -0.280702 -1.692308   \n",
       "4     0.000000 -3.323103       0.333333      -0.147059 -0.101365  0.000000   \n",
       "\n",
       "   DiabetesPedigreeFunction       Age  Outcome  \n",
       "0                  0.211516 -0.277778        0  \n",
       "1                  0.122209 -0.388889        0  \n",
       "2                  0.747356 -0.222222        0  \n",
       "3                  0.587544  0.444444        0  \n",
       "4                 -0.089307 -0.388889        0  "
      ]
     },
     "execution_count": 24,
     "metadata": {},
     "output_type": "execute_result"
    }
   ],
   "source": [
    "df_robust.head()"
   ]
  },
  {
   "cell_type": "markdown",
   "id": "d68e2d7e-8d56-420b-9453-9ce1222e5b4f",
   "metadata": {},
   "source": [
    "### b. MinMaxScaler"
   ]
  },
  {
   "cell_type": "code",
   "execution_count": 25,
   "id": "b37963b3-f87a-4dba-99c1-7ba255a2dacd",
   "metadata": {},
   "outputs": [
    {
     "data": {
      "text/html": [
       "<div>\n",
       "<style scoped>\n",
       "    .dataframe tbody tr th:only-of-type {\n",
       "        vertical-align: middle;\n",
       "    }\n",
       "\n",
       "    .dataframe tbody tr th {\n",
       "        vertical-align: top;\n",
       "    }\n",
       "\n",
       "    .dataframe thead th {\n",
       "        text-align: right;\n",
       "    }\n",
       "</style>\n",
       "<table border=\"1\" class=\"dataframe\">\n",
       "  <thead>\n",
       "    <tr style=\"text-align: right;\">\n",
       "      <th></th>\n",
       "      <th>Column</th>\n",
       "      <th>Range</th>\n",
       "    </tr>\n",
       "  </thead>\n",
       "  <tbody>\n",
       "    <tr>\n",
       "      <th>0</th>\n",
       "      <td>Pregnancies</td>\n",
       "      <td>17.000</td>\n",
       "    </tr>\n",
       "    <tr>\n",
       "      <th>1</th>\n",
       "      <td>Glucose</td>\n",
       "      <td>199.000</td>\n",
       "    </tr>\n",
       "    <tr>\n",
       "      <th>2</th>\n",
       "      <td>BloodPressure</td>\n",
       "      <td>114.000</td>\n",
       "    </tr>\n",
       "    <tr>\n",
       "      <th>3</th>\n",
       "      <td>SkinThickness</td>\n",
       "      <td>99.000</td>\n",
       "    </tr>\n",
       "    <tr>\n",
       "      <th>4</th>\n",
       "      <td>Insulin</td>\n",
       "      <td>680.000</td>\n",
       "    </tr>\n",
       "    <tr>\n",
       "      <th>5</th>\n",
       "      <td>BMI</td>\n",
       "      <td>67.100</td>\n",
       "    </tr>\n",
       "    <tr>\n",
       "      <th>6</th>\n",
       "      <td>DiabetesPedigreeFunction</td>\n",
       "      <td>2.052</td>\n",
       "    </tr>\n",
       "    <tr>\n",
       "      <th>7</th>\n",
       "      <td>Age</td>\n",
       "      <td>51.000</td>\n",
       "    </tr>\n",
       "    <tr>\n",
       "      <th>8</th>\n",
       "      <td>Outcome</td>\n",
       "      <td>1.000</td>\n",
       "    </tr>\n",
       "  </tbody>\n",
       "</table>\n",
       "</div>"
      ],
      "text/plain": [
       "                     Column    Range\n",
       "0               Pregnancies   17.000\n",
       "1                   Glucose  199.000\n",
       "2             BloodPressure  114.000\n",
       "3             SkinThickness   99.000\n",
       "4                   Insulin  680.000\n",
       "5                       BMI   67.100\n",
       "6  DiabetesPedigreeFunction    2.052\n",
       "7                       Age   51.000\n",
       "8                   Outcome    1.000"
      ]
     },
     "execution_count": 25,
     "metadata": {},
     "output_type": "execute_result"
    }
   ],
   "source": [
    "col_range = []\n",
    "\n",
    "for col in df.columns:\n",
    "    min = df[col].min()\n",
    "    max = df[col].max()\n",
    "    ranges = (max - min)\n",
    "    col_range.append(ranges)\n",
    "\n",
    "data_ranges = pd.DataFrame({'Column':df.columns, 'Range':col_range})\n",
    "data_ranges"
   ]
  },
  {
   "cell_type": "code",
   "execution_count": 26,
   "id": "76408d8d-69ce-4ef0-af7f-dfb7523514ef",
   "metadata": {},
   "outputs": [],
   "source": [
    "minmax_scaler = MinMaxScaler()\n",
    "df_minmax = df.copy()\n",
    "X_minmax = minmax_scaler.fit_transform(df_minmax[df_minmax.columns.difference(['Outcome'])])\n",
    "\n",
    "df_minmax[df_minmax.columns.difference(['Outcome'])] = pd.DataFrame(X_minmax, columns=df_minmax.columns.difference(['Outcome']))"
   ]
  },
  {
   "cell_type": "code",
   "execution_count": 30,
   "id": "bee80ec3-8882-4584-a2dd-95b4727b3786",
   "metadata": {},
   "outputs": [
    {
     "data": {
      "text/html": [
       "<div>\n",
       "<style scoped>\n",
       "    .dataframe tbody tr th:only-of-type {\n",
       "        vertical-align: middle;\n",
       "    }\n",
       "\n",
       "    .dataframe tbody tr th {\n",
       "        vertical-align: top;\n",
       "    }\n",
       "\n",
       "    .dataframe thead th {\n",
       "        text-align: right;\n",
       "    }\n",
       "</style>\n",
       "<table border=\"1\" class=\"dataframe\">\n",
       "  <thead>\n",
       "    <tr style=\"text-align: right;\">\n",
       "      <th></th>\n",
       "      <th>Column</th>\n",
       "      <th>Range</th>\n",
       "    </tr>\n",
       "  </thead>\n",
       "  <tbody>\n",
       "    <tr>\n",
       "      <th>0</th>\n",
       "      <td>Pregnancies</td>\n",
       "      <td>1.0</td>\n",
       "    </tr>\n",
       "    <tr>\n",
       "      <th>1</th>\n",
       "      <td>Glucose</td>\n",
       "      <td>1.0</td>\n",
       "    </tr>\n",
       "    <tr>\n",
       "      <th>2</th>\n",
       "      <td>BloodPressure</td>\n",
       "      <td>1.0</td>\n",
       "    </tr>\n",
       "    <tr>\n",
       "      <th>3</th>\n",
       "      <td>SkinThickness</td>\n",
       "      <td>1.0</td>\n",
       "    </tr>\n",
       "    <tr>\n",
       "      <th>4</th>\n",
       "      <td>Insulin</td>\n",
       "      <td>1.0</td>\n",
       "    </tr>\n",
       "    <tr>\n",
       "      <th>5</th>\n",
       "      <td>BMI</td>\n",
       "      <td>1.0</td>\n",
       "    </tr>\n",
       "    <tr>\n",
       "      <th>6</th>\n",
       "      <td>DiabetesPedigreeFunction</td>\n",
       "      <td>1.0</td>\n",
       "    </tr>\n",
       "    <tr>\n",
       "      <th>7</th>\n",
       "      <td>Age</td>\n",
       "      <td>1.0</td>\n",
       "    </tr>\n",
       "    <tr>\n",
       "      <th>8</th>\n",
       "      <td>Outcome</td>\n",
       "      <td>1.0</td>\n",
       "    </tr>\n",
       "  </tbody>\n",
       "</table>\n",
       "</div>"
      ],
      "text/plain": [
       "                     Column  Range\n",
       "0               Pregnancies    1.0\n",
       "1                   Glucose    1.0\n",
       "2             BloodPressure    1.0\n",
       "3             SkinThickness    1.0\n",
       "4                   Insulin    1.0\n",
       "5                       BMI    1.0\n",
       "6  DiabetesPedigreeFunction    1.0\n",
       "7                       Age    1.0\n",
       "8                   Outcome    1.0"
      ]
     },
     "execution_count": 30,
     "metadata": {},
     "output_type": "execute_result"
    }
   ],
   "source": [
    "col_range = []\n",
    "\n",
    "for col in df_minmax.columns:\n",
    "    min = df_minmax[col].min()\n",
    "    max = df_minmax[col].max()\n",
    "    ranges = (max - min)\n",
    "    col_range.append(ranges)\n",
    "\n",
    "data_ranges = pd.DataFrame({'Column':df_minmax.columns, 'Range':col_range})\n",
    "data_ranges"
   ]
  },
  {
   "cell_type": "code",
   "execution_count": 28,
   "id": "eea14403-4d55-49d9-a773-4f9ed49540da",
   "metadata": {},
   "outputs": [
    {
     "data": {
      "text/html": [
       "<div>\n",
       "<style scoped>\n",
       "    .dataframe tbody tr th:only-of-type {\n",
       "        vertical-align: middle;\n",
       "    }\n",
       "\n",
       "    .dataframe tbody tr th {\n",
       "        vertical-align: top;\n",
       "    }\n",
       "\n",
       "    .dataframe thead th {\n",
       "        text-align: right;\n",
       "    }\n",
       "</style>\n",
       "<table border=\"1\" class=\"dataframe\">\n",
       "  <thead>\n",
       "    <tr style=\"text-align: right;\">\n",
       "      <th></th>\n",
       "      <th>Pregnancies</th>\n",
       "      <th>Glucose</th>\n",
       "      <th>BloodPressure</th>\n",
       "      <th>SkinThickness</th>\n",
       "      <th>Insulin</th>\n",
       "      <th>BMI</th>\n",
       "      <th>DiabetesPedigreeFunction</th>\n",
       "      <th>Age</th>\n",
       "      <th>Outcome</th>\n",
       "    </tr>\n",
       "  </thead>\n",
       "  <tbody>\n",
       "    <tr>\n",
       "      <th>0</th>\n",
       "      <td>0.000000</td>\n",
       "      <td>0.829146</td>\n",
       "      <td>0.789474</td>\n",
       "      <td>0.333333</td>\n",
       "      <td>1.000000</td>\n",
       "      <td>0.779434</td>\n",
       "      <td>0.166667</td>\n",
       "      <td>0.039216</td>\n",
       "      <td>0</td>\n",
       "    </tr>\n",
       "    <tr>\n",
       "      <th>1</th>\n",
       "      <td>0.058824</td>\n",
       "      <td>0.658291</td>\n",
       "      <td>0.561404</td>\n",
       "      <td>0.141414</td>\n",
       "      <td>0.610294</td>\n",
       "      <td>0.353204</td>\n",
       "      <td>0.148148</td>\n",
       "      <td>0.000000</td>\n",
       "      <td>0</td>\n",
       "    </tr>\n",
       "    <tr>\n",
       "      <th>2</th>\n",
       "      <td>0.058824</td>\n",
       "      <td>0.969849</td>\n",
       "      <td>0.604906</td>\n",
       "      <td>0.232323</td>\n",
       "      <td>0.551471</td>\n",
       "      <td>0.385991</td>\n",
       "      <td>0.277778</td>\n",
       "      <td>0.058824</td>\n",
       "      <td>0</td>\n",
       "    </tr>\n",
       "    <tr>\n",
       "      <th>3</th>\n",
       "      <td>0.294118</td>\n",
       "      <td>0.221106</td>\n",
       "      <td>0.543860</td>\n",
       "      <td>0.000000</td>\n",
       "      <td>0.000000</td>\n",
       "      <td>0.372578</td>\n",
       "      <td>0.244639</td>\n",
       "      <td>0.294118</td>\n",
       "      <td>0</td>\n",
       "    </tr>\n",
       "    <tr>\n",
       "      <th>4</th>\n",
       "      <td>0.223717</td>\n",
       "      <td>0.000000</td>\n",
       "      <td>0.649123</td>\n",
       "      <td>0.202020</td>\n",
       "      <td>0.033824</td>\n",
       "      <td>0.479136</td>\n",
       "      <td>0.104288</td>\n",
       "      <td>0.000000</td>\n",
       "      <td>0</td>\n",
       "    </tr>\n",
       "  </tbody>\n",
       "</table>\n",
       "</div>"
      ],
      "text/plain": [
       "   Pregnancies   Glucose  BloodPressure  SkinThickness   Insulin       BMI  \\\n",
       "0     0.000000  0.829146       0.789474       0.333333  1.000000  0.779434   \n",
       "1     0.058824  0.658291       0.561404       0.141414  0.610294  0.353204   \n",
       "2     0.058824  0.969849       0.604906       0.232323  0.551471  0.385991   \n",
       "3     0.294118  0.221106       0.543860       0.000000  0.000000  0.372578   \n",
       "4     0.223717  0.000000       0.649123       0.202020  0.033824  0.479136   \n",
       "\n",
       "   DiabetesPedigreeFunction       Age  Outcome  \n",
       "0                  0.166667  0.039216        0  \n",
       "1                  0.148148  0.000000        0  \n",
       "2                  0.277778  0.058824        0  \n",
       "3                  0.244639  0.294118        0  \n",
       "4                  0.104288  0.000000        0  "
      ]
     },
     "execution_count": 28,
     "metadata": {},
     "output_type": "execute_result"
    }
   ],
   "source": [
    "df_minmax.head()"
   ]
  }
 ],
 "metadata": {
  "kernelspec": {
   "display_name": "Python 3 (ipykernel)",
   "language": "python",
   "name": "python3"
  },
  "language_info": {
   "codemirror_mode": {
    "name": "ipython",
    "version": 3
   },
   "file_extension": ".py",
   "mimetype": "text/x-python",
   "name": "python",
   "nbconvert_exporter": "python",
   "pygments_lexer": "ipython3",
   "version": "3.12.4"
  }
 },
 "nbformat": 4,
 "nbformat_minor": 5
}
