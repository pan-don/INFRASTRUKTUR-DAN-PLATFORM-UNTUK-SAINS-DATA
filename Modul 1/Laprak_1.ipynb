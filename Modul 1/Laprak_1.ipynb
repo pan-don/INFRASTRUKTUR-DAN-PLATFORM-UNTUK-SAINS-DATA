{
 "cells": [
  {
   "cell_type": "markdown",
   "id": "953120a7-191d-425f-b576-a2b111a73d73",
   "metadata": {},
   "source": [
    "### Nomor 1"
   ]
  },
  {
   "cell_type": "code",
   "execution_count": 12,
   "id": "85883edf-cdae-42da-a12c-d97de5a389ed",
   "metadata": {},
   "outputs": [
    {
     "name": "stdout",
     "output_type": "stream",
     "text": [
      "2 \n",
      "3 5 \n",
      "7 11 13 \n",
      "17 19 23 29 \n"
     ]
    }
   ],
   "source": [
    "# Nomor 1\n",
    "\n",
    "def prima(n):\n",
    "    if n < 2:\n",
    "        return False\n",
    "    for i in range(2, int(n**0.5) + 1):\n",
    "        if n % i == 0:\n",
    "            return False\n",
    "    return True\n",
    "\n",
    "def segitiga_siku(data_list):\n",
    "    idx = 0\n",
    "    row = 1\n",
    "    while idx < len(data_list):\n",
    "        for i in range(row):\n",
    "            if idx < len(data_list):\n",
    "                print(data_list[idx], end=' ')\n",
    "                idx += 1\n",
    "        print()\n",
    "        row += 1\n",
    "\n",
    "def tampilkan(x):\n",
    "    data_list = []\n",
    "    for i in range(2, x + 1):\n",
    "        if prima(i):\n",
    "            data_list.append(i)\n",
    "    segitiga_siku(data_list)\n",
    "\n",
    "tampilkan(30) # limit"
   ]
  },
  {
   "cell_type": "markdown",
   "id": "a374c074-8c1e-45a0-9310-f2694583e489",
   "metadata": {},
   "source": [
    "### Nomor 2"
   ]
  },
  {
   "cell_type": "code",
   "execution_count": 63,
   "id": "f46557cd-6588-402a-a9f7-fbf0ea4f097b",
   "metadata": {
    "scrolled": true
   },
   "outputs": [
    {
     "name": "stdin",
     "output_type": "stream",
     "text": [
      "Masukan list 1 angka(pisahkan dengan spasi):  1 2 3 4\n",
      "Masukan list 2 angka(pisahkan dengan spasi):  9 8 7 6\n"
     ]
    },
    {
     "name": "stdout",
     "output_type": "stream",
     "text": [
      "\n",
      "Hasil: [2, 4, 8, 6]\n"
     ]
    }
   ],
   "source": [
    "# Nomor 2\n",
    "\n",
    "def list_ganjil(input1, input2):\n",
    "    list_ganjil = []\n",
    "    list1 = list(map(int, input1.split()))\n",
    "    list2 = list(map(int, input2.split()))\n",
    "    for i in [list1, list2]:\n",
    "        for index, j in enumerate(i):\n",
    "            if index % 2 != 0:\n",
    "                list_ganjil.append(j)\n",
    "    return list_ganjil\n",
    "                \n",
    "input1 = input(\"Masukan list 1 angka(pisahkan dengan spasi): \")\n",
    "input2 = input(\"Masukan list 2 angka(pisahkan dengan spasi): \")\n",
    "hasil = list_ganjil(input1, input2)\n",
    "print(f\"\\nHasil: {hasil}\")"
   ]
  },
  {
   "cell_type": "markdown",
   "id": "f67d1725-2cce-43ca-9264-5cbaf8fb52dc",
   "metadata": {},
   "source": [
    "### Nomor 3"
   ]
  },
  {
   "cell_type": "code",
   "execution_count": 15,
   "id": "2deae677-67e1-4187-bf7c-195c7eaaa757",
   "metadata": {},
   "outputs": [
    {
     "name": "stdin",
     "output_type": "stream",
     "text": [
      "Masukan Pin:  112211\n"
     ]
    },
    {
     "name": "stdout",
     "output_type": "stream",
     "text": [
      "Pin Benar\n",
      "\n",
      "Saldo: 500,000\n"
     ]
    },
    {
     "name": "stdin",
     "output_type": "stream",
     "text": [
      "Masukan Jumlah Uang Yang Ditarik:  300000\n"
     ]
    },
    {
     "name": "stdout",
     "output_type": "stream",
     "text": [
      "Uang Berhasil Ditarik!\n",
      "\n",
      "========= Transaksi ==========\n",
      "saldo Awal :           500,000\n",
      "Saldo AKhir:           200,000\n",
      "------------------------------\n",
      "Jumlah Penarikan:      300,000\n",
      "==============================\n",
      "\n"
     ]
    }
   ],
   "source": [
    "# Nomor 3\n",
    "\n",
    "saldo = 500000\n",
    "pin = 112211\n",
    "coba = 3\n",
    "\n",
    "def struk(saldo, jumlah_transaksi, saldo_akhir):\n",
    "    print(\" Transaksi \".center(30, \"=\"))\n",
    "    print(f\"saldo Awal :\".ljust(20)+f\"{saldo:,}\".rjust(10))\n",
    "    print(f\"Saldo AKhir:\".ljust(20)+f\"{saldo_akhir:,}\".rjust(10))\n",
    "    print(\"-\"*30)\n",
    "    print(f\"Jumlah Penarikan:\".ljust(20)+f\"{jumlah_transaksi:,}\".rjust(10))\n",
    "    print(\"=\"*30)\n",
    "    print()\n",
    "    \n",
    "def transaksi(saldo, jumlah_transaksi):\n",
    "    if jumlah_transaksi <= saldo and jumlah_transaksi > 0:\n",
    "        saldo_akhir = saldo - jumlah_transaksi\n",
    "        print(\"Uang Berhasil Ditarik!\\n\")\n",
    "        struk(saldo, jumlah_transaksi, saldo_akhir)\n",
    "        return saldo_akhir\n",
    "    else:\n",
    "        print(\"\\nMasukan Jumlah Saldo Yang Tersedia!\")\n",
    "        return saldo\n",
    "\n",
    "while coba > 0:\n",
    "    input_pin = int(input(\"Masukan Pin: \"))\n",
    "    if input_pin == pin:\n",
    "        print(\"Pin Benar\")\n",
    "        print(f\"\\nSaldo: {saldo:,}\")\n",
    "        jumlah_transaksi = int(input(\"Masukan Jumlah Uang Yang Ditarik: \"))\n",
    "        saldo = transaksi(saldo, jumlah_transaksi)\n",
    "        break\n",
    "    else:\n",
    "        coba = coba - 1 \n",
    "        print(f\"pin salah! sisa percobaan: {coba}\")\n",
    "        if coba == 0:\n",
    "            print(\"\\nMaaf ATM anda terblokir!\\nSilahkan coba lagi dalam 30 Tahun\")"
   ]
  },
  {
   "cell_type": "markdown",
   "id": "1bd5983d-5043-42a2-896e-1f05894cc05d",
   "metadata": {},
   "source": [
    "### Nomor 4"
   ]
  },
  {
   "cell_type": "code",
   "execution_count": 2,
   "id": "a3ae055f-8029-4eb9-b9dd-55dbeca794c9",
   "metadata": {},
   "outputs": [
    {
     "name": "stdout",
     "output_type": "stream",
     "text": [
      "Nilai Rata-rata: 72.0\n",
      "Nilai Minimum  : 50\n",
      "Nilai Maksimum : 100\n"
     ]
    }
   ],
   "source": [
    "# Nomor 4\n",
    "\n",
    "import pandas as pd\n",
    "import numpy as np\n",
    "\n",
    "data_dict = {}\n",
    "df = pd.read_csv(\"siswa_nilai (1).csv\")\n",
    "\n",
    "for i, row in df.iterrows():\n",
    "    key = row['Nama Siswa']\n",
    "    value = row['Nilai']\n",
    "    data_dict[key] = value\n",
    "\n",
    "nilai = np.array(list(data_dict.values()))\n",
    "mean = np.mean(nilai)\n",
    "min = np.min(nilai)\n",
    "max = np.max(nilai)\n",
    "\n",
    "print(f\"Nilai Rata-rata: {mean}\")\n",
    "print(f\"Nilai Minimum  : {min}\")\n",
    "print(f\"Nilai Maksimum : {max}\")"
   ]
  },
  {
   "cell_type": "markdown",
   "id": "69405664-f4f6-4f23-8de4-701bb15e32a2",
   "metadata": {},
   "source": [
    "### Nomor 5"
   ]
  },
  {
   "cell_type": "code",
   "execution_count": 16,
   "id": "fd369121-c59a-44fc-b596-6919e326838a",
   "metadata": {},
   "outputs": [
    {
     "name": "stdout",
     "output_type": "stream",
     "text": [
      "====== Game Tebak Angka ======\n"
     ]
    },
    {
     "name": "stdin",
     "output_type": "stream",
     "text": [
      "Masukan Angka:  50\n"
     ]
    },
    {
     "name": "stdout",
     "output_type": "stream",
     "text": [
      "Angka yang ditebak lebih kecil\n",
      "Percobaan tersisa: 4\n",
      "\n"
     ]
    },
    {
     "name": "stdin",
     "output_type": "stream",
     "text": [
      "Masukan Angka:  30\n"
     ]
    },
    {
     "name": "stdout",
     "output_type": "stream",
     "text": [
      "Angka yang ditebak lebih besar\n",
      "Percobaan tersisa: 3\n",
      "\n"
     ]
    },
    {
     "name": "stdin",
     "output_type": "stream",
     "text": [
      "Masukan Angka:  40\n"
     ]
    },
    {
     "name": "stdout",
     "output_type": "stream",
     "text": [
      "Angka yang ditebak lebih besar\n",
      "Percobaan tersisa: 2\n",
      "\n"
     ]
    },
    {
     "name": "stdin",
     "output_type": "stream",
     "text": [
      "Masukan Angka:  45\n"
     ]
    },
    {
     "name": "stdout",
     "output_type": "stream",
     "text": [
      "Angka yang ditebak lebih besar\n",
      "Percobaan tersisa: 1\n",
      "\n"
     ]
    },
    {
     "name": "stdin",
     "output_type": "stream",
     "text": [
      "Masukan Angka:  48\n"
     ]
    },
    {
     "name": "stdout",
     "output_type": "stream",
     "text": [
      "Angka yang ditebak lebih kecil\n",
      "Percobaan tersisa: 0\n",
      "\n",
      "Kamu Gagal!\n",
      "jawaban yang benar: 46\n"
     ]
    }
   ],
   "source": [
    "# Nomor 5\n",
    "\n",
    "import random \n",
    "\n",
    "print(\" Game Tebak Angka \".center(30, \"=\"))\n",
    "\n",
    "def tebak_angka():\n",
    "    angka_random = random.randint(1, 100)\n",
    "    coba = 5\n",
    "    while coba > 0:\n",
    "        tebak = int(input(\"Masukan Angka: \"))\n",
    "        if tebak == angka_random:\n",
    "            print(f\"Selamat Anda Berhasil Menebak Angka Yang Benar: {angka_random}\")\n",
    "            break\n",
    "        else:\n",
    "            coba = coba - 1\n",
    "            if tebak < angka_random:\n",
    "                print(\"Angka yang ditebak lebih besar\")\n",
    "            else:\n",
    "                print(\"Angka yang ditebak lebih kecil\")\n",
    "            print(f\"Percobaan tersisa: {coba}\\n\")\n",
    "            \n",
    "        if coba == 0:\n",
    "            print(f\"Kamu Gagal!\\njawaban yang benar: {angka_random}\")\n",
    "\n",
    "tebak_angka()"
   ]
  },
  {
   "cell_type": "markdown",
   "id": "0c9963eb-697e-4c7f-a36b-18be685ffb84",
   "metadata": {},
   "source": [
    "### Nomor 6"
   ]
  },
  {
   "cell_type": "code",
   "execution_count": 72,
   "id": "299894b0-30c4-4dea-8def-58b85c17ed65",
   "metadata": {},
   "outputs": [
    {
     "name": "stdin",
     "output_type": "stream",
     "text": [
      "Masukan n:  4\n"
     ]
    },
    {
     "name": "stdout",
     "output_type": "stream",
     "text": [
      "\n",
      "Hasil: [1, 1, 2, 6, 24]\n"
     ]
    }
   ],
   "source": [
    "# Nomor 6\n",
    "\n",
    "def rekursif(n):\n",
    "    list_hasil = []\n",
    "    def faktorial(i):\n",
    "        if i == 0 or i == 1:\n",
    "            return 1\n",
    "        else:\n",
    "            return i * faktorial(i - 1)\n",
    "    for i in range(n + 1):\n",
    "        list_hasil.append(faktorial(i))\n",
    "    \n",
    "    return list_hasil\n",
    "\n",
    "input_n = int(input(\"Masukan n: \"))\n",
    "print(f\"\\nHasil: {rekursif(input_n)}\")"
   ]
  },
  {
   "cell_type": "markdown",
   "id": "f348b668-690a-4411-875e-5862c4a70801",
   "metadata": {},
   "source": [
    "### Nomor 7"
   ]
  },
  {
   "cell_type": "code",
   "execution_count": 25,
   "id": "262a5ba9-43cd-42b1-8da1-8b9e9754b1ab",
   "metadata": {},
   "outputs": [
    {
     "name": "stdout",
     "output_type": "stream",
     "text": [
      "==== Minimum Coin Change =====\n"
     ]
    },
    {
     "name": "stdin",
     "output_type": "stream",
     "text": [
      "Masukan Koin:  23\n"
     ]
    },
    {
     "name": "stdout",
     "output_type": "stream",
     "text": [
      "Minimal pecahan koin yang dibutuhkan adalah [10, 10, 1, 1, 1], 5 koin\n"
     ]
    }
   ],
   "source": [
    "# Nomor 7\n",
    "\n",
    "print(\" Minimum Coin Change \".center(30, \"=\"))\n",
    "pecahan_koin = [25, 10, 5, 1]\n",
    "hasil = []\n",
    "koin = int(input(\"Masukan Koin: \"))\n",
    "\n",
    "for i in pecahan_koin:\n",
    "    while koin >= i:\n",
    "        koin -= i\n",
    "        hasil.append(i)\n",
    "\n",
    "print(f\"Minimal pecahan koin yang dibutuhkan adalah {hasil}, {len(hasil)} koin\")"
   ]
  },
  {
   "cell_type": "markdown",
   "id": "9e7c1390-a279-4b66-84b6-80bee74abb3b",
   "metadata": {},
   "source": [
    "### Nomor 8"
   ]
  },
  {
   "cell_type": "code",
   "execution_count": 53,
   "id": "d2842791-e6f4-47b6-b91f-313123f19e5b",
   "metadata": {},
   "outputs": [
    {
     "name": "stdin",
     "output_type": "stream",
     "text": [
      "Masukan Kalimat:  saya suka python\n"
     ]
    },
    {
     "name": "stdout",
     "output_type": "stream",
     "text": [
      "\n",
      "hasil: ['ayas', 'akus', 'nohtyp']\n"
     ]
    }
   ],
   "source": [
    "# Nomor 8 \n",
    "\n",
    "kalimat = str(input(\"Masukan Kalimat: \"))\n",
    "kata = kalimat.split()\n",
    "reverse = []\n",
    "\n",
    "for i in range(len(kata)):\n",
    "    kata_reverse = \"\"\n",
    "    for huruf in reversed(kata[i]):\n",
    "        kata_reverse = kata_reverse + huruf\n",
    "    reverse.append(kata_reverse)\n",
    "\n",
    "print(f\"\\nhasil: {reverse}\")"
   ]
  },
  {
   "cell_type": "markdown",
   "id": "68624564-8e87-45f5-a062-2808b7d5d7ca",
   "metadata": {},
   "source": [
    "### Nomor 9"
   ]
  },
  {
   "cell_type": "code",
   "execution_count": 14,
   "id": "5e0abd70-f278-4f8a-ab42-650544bdd8a1",
   "metadata": {},
   "outputs": [
    {
     "name": "stdout",
     "output_type": "stream",
     "text": [
      "======= Informasi Buku =======\n",
      "Judul\t\t: Hafalan Solat Delisa\n",
      "Penerbit\t: Tere Liye\n",
      "Tahun Terbit\t: 2005\n",
      "\n",
      "==== Informasi Umur Buku =====\n",
      "Usia buku \"Hafalan Solat Delisa\" adalah 19 tahun\n",
      "\n",
      "======= Informasi Buku =======\n",
      "Judul\t\t: Tentang Kamu\n",
      "Penerbit\t: Tere Liye\n",
      "Tahun Terbit\t: 2016\n",
      "\n",
      "==== Informasi Umur Buku =====\n",
      "Usia buku \"Tentang Kamu\" adalah 8 tahun\n",
      "\n",
      "======= Informasi Buku =======\n",
      "Judul\t\t: Janji\n",
      "Penerbit\t: Tere Liye\n",
      "Tahun Terbit\t: 2021\n",
      "\n",
      "==== Informasi Umur Buku =====\n",
      "Usia buku \"Janji\" adalah 3 tahun\n",
      "\n"
     ]
    }
   ],
   "source": [
    "# Nomor 9\n",
    "\n",
    "import datetime\n",
    "\n",
    "class Buku:\n",
    "    def __init__(self ,judul, penulis, tahun_terbit):\n",
    "        self.judul = judul\n",
    "        self.penulis = penulis\n",
    "        self.tahun_terbit = tahun_terbit\n",
    "\n",
    "    def info(self):\n",
    "        print(\" Informasi Buku \".center(30, \"=\"))\n",
    "        print(f\"Judul\\t\\t: {self.judul}\")\n",
    "        print(f\"Penerbit\\t: {self.penulis}\")\n",
    "        print(f\"Tahun Terbit\\t: {self.tahun_terbit}\")\n",
    "        print()\n",
    "    \n",
    "    def umur_buku(self):\n",
    "        print(\" Informasi Umur Buku \".center(30, \"=\"))\n",
    "        umur = datetime.datetime.now().year - self.tahun_terbit\n",
    "        print(f'Usia buku \"{self.judul}\" adalah {umur} tahun')\n",
    "        print()\n",
    "        \n",
    "buku1 = Buku(\"Hafalan Solat Delisa\", \"Tere Liye\", 2005)\n",
    "buku2 = Buku(\"Tentang Kamu\", \"Tere Liye\", 2016)\n",
    "buku3 = Buku(\"Janji\", \"Tere Liye\", 2021)\n",
    "\n",
    "for buku in [buku1, buku2, buku3]:\n",
    "    buku.info()\n",
    "    buku.umur_buku()"
   ]
  },
  {
   "cell_type": "markdown",
   "id": "78e73cfc-486e-4c5f-bce1-a4f3e7e874c5",
   "metadata": {},
   "source": [
    "### Nomor 10"
   ]
  },
  {
   "cell_type": "code",
   "execution_count": 6,
   "id": "a8fefa46-7e1c-4100-960f-ac52ffa07f9d",
   "metadata": {},
   "outputs": [
    {
     "name": "stdin",
     "output_type": "stream",
     "text": [
      "Masukan angka yang dicari:  1\n"
     ]
    },
    {
     "name": "stdout",
     "output_type": "stream",
     "text": [
      "Nilai 1 tidak bisa ditemukan!\n"
     ]
    }
   ],
   "source": [
    "# Nomor 10\n",
    "\n",
    "def binary_search(arr, target):\n",
    "    arr = np.sort(arr)\n",
    "    low = 0\n",
    "    high = len(arr) - 1\n",
    "    \n",
    "    while low <= high:\n",
    "        mid = (low + high) // 2\n",
    "        \n",
    "        if arr[mid] == target: \n",
    "            if arr[mid] % 2 == 0:\n",
    "                return print(f\"Nilai {target} ditemukan pada indeks ke-{mid}!\")\n",
    "            else:\n",
    "                break\n",
    "        elif arr[mid] < target:\n",
    "            low = mid + 1\n",
    "        else:\n",
    "            high = mid - 1\n",
    "            \n",
    "    return print(f\"Nilai {target} tidak bisa ditemukan!\")\n",
    "\n",
    "arr = np.array([1,7, 5, 8, 9, 6, 5])\n",
    "target = int(input(\"Masukan angka yang dicari: \"))\n",
    "binary_search(arr, target)"
   ]
  }
 ],
 "metadata": {
  "kernelspec": {
   "display_name": "Python 3 (ipykernel)",
   "language": "python",
   "name": "python3"
  },
  "language_info": {
   "codemirror_mode": {
    "name": "ipython",
    "version": 3
   },
   "file_extension": ".py",
   "mimetype": "text/x-python",
   "name": "python",
   "nbconvert_exporter": "python",
   "pygments_lexer": "ipython3",
   "version": "3.12.4"
  }
 },
 "nbformat": 4,
 "nbformat_minor": 5
}
