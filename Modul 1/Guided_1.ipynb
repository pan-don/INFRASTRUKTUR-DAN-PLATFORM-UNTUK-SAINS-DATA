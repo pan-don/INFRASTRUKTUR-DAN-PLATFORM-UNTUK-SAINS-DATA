{
 "cells": [
  {
   "cell_type": "markdown",
   "id": "0871f30a-dabd-4f67-a79a-0452a5eec0be",
   "metadata": {},
   "source": [
    "###  Variabel dan Tipe Data "
   ]
  },
  {
   "cell_type": "code",
   "execution_count": 1,
   "id": "1a08bbd2-28dc-4578-8cd9-c1eb08552b3e",
   "metadata": {},
   "outputs": [],
   "source": [
    "x = 10 \n",
    "y = 3.14 \n",
    "z = \"Data Science\" \n",
    "user_age = 20 \n",
    "pi_value = 3.14159 \n",
    "course_name = \"Python for Data Science\" "
   ]
  },
  {
   "cell_type": "code",
   "execution_count": 2,
   "id": "219d507c-d6ca-47bc-b1db-b9922a09e82c",
   "metadata": {},
   "outputs": [
    {
     "name": "stdout",
     "output_type": "stream",
     "text": [
      "<class 'int'>\n",
      "<class 'float'>\n",
      "<class 'str'>\n",
      "<class 'bool'>\n"
     ]
    }
   ],
   "source": [
    "# Integers \n",
    "age = 25 \n",
    "\n",
    "# Floats \n",
    "height = 1.75 \n",
    "\n",
    "# Strings \n",
    "name = \"Agung\" \n",
    "\n",
    "# Booleans \n",
    "is_student = True \n",
    "print(type(age))      \n",
    "print(type(height))   \n",
    "print(type(name))     \n",
    "print(type(is_student))"
   ]
  },
  {
   "cell_type": "markdown",
   "id": "7d88a393-a4ba-47dd-a6ed-86aa6fbca2ac",
   "metadata": {},
   "source": [
    "### Operator dan Logika"
   ]
  },
  {
   "cell_type": "markdown",
   "id": "8030a051-75d7-4f31-8ebb-0093f0ce0681",
   "metadata": {},
   "source": [
    "#### 1. Operator Aritmatika"
   ]
  },
  {
   "cell_type": "code",
   "execution_count": 4,
   "id": "77aa7570-ead1-4a1d-a353-2a600d0bb91f",
   "metadata": {},
   "outputs": [
    {
     "name": "stdout",
     "output_type": "stream",
     "text": [
      "13\n",
      "3.3333333333333335\n",
      "3\n",
      "1000\n"
     ]
    }
   ],
   "source": [
    "a = 10 \n",
    "b = 3 \n",
    "\n",
    "# Penjumlahan \n",
    "print(a + b)   \n",
    "\n",
    "# Pembagian \n",
    "print(a / b)   \n",
    "\n",
    "# Pembagian bulat \n",
    "print(a // b)   \n",
    "\n",
    "# Eksponensial \n",
    "print(a ** b)   "
   ]
  },
  {
   "cell_type": "markdown",
   "id": "14a08995-ff14-46cd-9bd8-2f1e79a6f469",
   "metadata": {},
   "source": [
    "#### 2. Operator Perbandingan "
   ]
  },
  {
   "cell_type": "code",
   "execution_count": 5,
   "id": "2ed97424-cd77-4d3d-8afe-768dc647c87c",
   "metadata": {},
   "outputs": [
    {
     "name": "stdout",
     "output_type": "stream",
     "text": [
      "True\n",
      "False\n"
     ]
    }
   ],
   "source": [
    "print(a > b)  # Output: True \n",
    "\n",
    "print(a == b) # Output: False "
   ]
  },
  {
   "cell_type": "markdown",
   "id": "3f38fa29-2c97-46f1-9e1f-96f299e8e5f9",
   "metadata": {},
   "source": [
    "#### 3. Operator Logika "
   ]
  },
  {
   "cell_type": "code",
   "execution_count": 6,
   "id": "d2887ba7-ba8c-4b96-8bac-18b8c9d1e55c",
   "metadata": {},
   "outputs": [
    {
     "name": "stdout",
     "output_type": "stream",
     "text": [
      "False\n",
      "True\n"
     ]
    }
   ],
   "source": [
    "x = True \n",
    "y = False \n",
    "print(x and y) \n",
    "print(x or y) "
   ]
  },
  {
   "cell_type": "markdown",
   "id": "d217e495-1b4f-448e-ae4c-ac32fee18819",
   "metadata": {},
   "source": [
    "### Fungsi"
   ]
  },
  {
   "cell_type": "code",
   "execution_count": 16,
   "id": "9ec8eff8-4dd9-4ff9-b29a-20c033075a9e",
   "metadata": {},
   "outputs": [
    {
     "name": "stdout",
     "output_type": "stream",
     "text": [
      "Hello, Agung!\n"
     ]
    }
   ],
   "source": [
    "# Definisi fungsi sederhana \n",
    "\n",
    "def greet(name): \n",
    "    return f\"Hello, {name}!\" \n",
    "\n",
    "# Memanggil fungsi \n",
    "print(greet(\"Agung\"))"
   ]
  },
  {
   "cell_type": "markdown",
   "id": "f97a526c-52eb-495b-b7d0-d60c2d9db4f1",
   "metadata": {},
   "source": [
    "### For Loop"
   ]
  },
  {
   "cell_type": "code",
   "execution_count": 18,
   "id": "ce3b38b2-9406-4a89-9d1b-6a198b060746",
   "metadata": {},
   "outputs": [
    {
     "name": "stdout",
     "output_type": "stream",
     "text": [
      "apple\n",
      "banana\n",
      "cherry\n"
     ]
    }
   ],
   "source": [
    "fruits = [\"apple\", \"banana\", \"cherry\"] \n",
    "for fruit in fruits: \n",
    "    print(fruit)"
   ]
  },
  {
   "cell_type": "markdown",
   "id": "c8dbd690-9f71-42e2-827a-47c3f44e1d81",
   "metadata": {},
   "source": [
    "### While Loop"
   ]
  },
  {
   "cell_type": "code",
   "execution_count": 20,
   "id": "38cfca92-eee3-42ba-aa94-52c4c7d0a1dd",
   "metadata": {},
   "outputs": [
    {
     "name": "stdout",
     "output_type": "stream",
     "text": [
      "0\n",
      "1\n",
      "2\n"
     ]
    }
   ],
   "source": [
    "counter = 0\n",
    "while counter < 3: \n",
    "    print(counter) \n",
    "    counter += 1 "
   ]
  },
  {
   "cell_type": "markdown",
   "id": "3ae46922-3025-4b88-8c8d-0ccd527844c9",
   "metadata": {},
   "source": [
    "### List Comprehension "
   ]
  },
  {
   "cell_type": "code",
   "execution_count": 21,
   "id": "26b3f7cf-9500-4598-a564-3331229d2e97",
   "metadata": {},
   "outputs": [
    {
     "name": "stdout",
     "output_type": "stream",
     "text": [
      "[2, 4, 6, 8, 10]\n"
     ]
    }
   ],
   "source": [
    "numbers = [1, 2, 3, 4, 5] \n",
    "doubled = [x * 2 for x in numbers] \n",
    "print(doubled) "
   ]
  },
  {
   "cell_type": "markdown",
   "id": "fd9ed5ed-7f85-4605-860c-97315ce3feca",
   "metadata": {},
   "source": [
    "### If, Elif, Else"
   ]
  },
  {
   "cell_type": "code",
   "execution_count": 23,
   "id": "31a6b9f5-6205-4fa4-b978-bf684baacab4",
   "metadata": {},
   "outputs": [
    {
     "name": "stdout",
     "output_type": "stream",
     "text": [
      "B\n"
     ]
    }
   ],
   "source": [
    "score = 85 \n",
    "if score >= 90: \n",
    "    print(\"A\") \n",
    "elif score >= 80: \n",
    "    print(\"B\") \n",
    "else: \n",
    "    print(\"C\") "
   ]
  },
  {
   "cell_type": "markdown",
   "id": "84f8a52a-35ff-41d8-aa6f-f61737f9f566",
   "metadata": {},
   "source": [
    "### Nested Conditionals"
   ]
  },
  {
   "cell_type": "code",
   "execution_count": 25,
   "id": "c2af01f7-e269-462a-b4a0-365c541852a8",
   "metadata": {},
   "outputs": [
    {
     "name": "stdout",
     "output_type": "stream",
     "text": [
      "Lulus dengan nilai baik\n"
     ]
    }
   ],
   "source": [
    "score = 85 \n",
    "attendance = 90 \n",
    "if score >= 80: \n",
    "    if attendance >= 85: \n",
    "        print(\"Lulus dengan nilai baik\") \n",
    "    else: \n",
    "        print(\"Kehadiran kurang\") \n",
    "else: \n",
    "    print(\"Tidak lulus\")"
   ]
  }
 ],
 "metadata": {
  "kernelspec": {
   "display_name": "Python 3 (ipykernel)",
   "language": "python",
   "name": "python3"
  },
  "language_info": {
   "codemirror_mode": {
    "name": "ipython",
    "version": 3
   },
   "file_extension": ".py",
   "mimetype": "text/x-python",
   "name": "python",
   "nbconvert_exporter": "python",
   "pygments_lexer": "ipython3",
   "version": "3.12.4"
  }
 },
 "nbformat": 4,
 "nbformat_minor": 5
}
